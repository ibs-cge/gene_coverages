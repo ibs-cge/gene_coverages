{
 "cells": [
  {
   "cell_type": "code",
   "execution_count": null,
   "metadata": {},
   "outputs": [],
   "source": [
    "import pandas as pd\n",
    "import numpy as np"
   ]
  },
  {
   "cell_type": "code",
   "execution_count": null,
   "metadata": {},
   "outputs": [],
   "source": [
    "def get_Hardy_Weinberg_freq_AB(df_ab, country):\n",
    "    ab  = df_ab[country][df_ab[country]>0].reset_index()    \n",
    "    ab_freq = pd.DataFrame([(a1,a2,b1,b2,f1*f2)\n",
    "                            for (a1,b1,f1) in ab.values\n",
    "                            for (a2,b2,f2) in ab.values],\n",
    "                           columns = 'A_1 A_2 B_1 B_2 f'.split())\n",
    "    return ab_freq"
   ]
  },
  {
   "cell_type": "code",
   "execution_count": null,
   "metadata": {},
   "outputs": [],
   "source": [
    "df = pd.read_excel(\"data/A-B-DRB1.xlsx\")\n",
    "df['A'] = df.A.apply(lambda x : x.split(\":\")[0])\n",
    "df['B'] = df.B.apply(lambda x : x.split(\":\")[0])\n",
    "df['DRB1'] = df.DRB1.apply(lambda x : x.split(\":\")[0])\n",
    "\n",
    "df_ab = df.groupby(\"A B\".split()).sum()"
   ]
  },
  {
   "cell_type": "code",
   "execution_count": null,
   "metadata": {},
   "outputs": [],
   "source": [
    "pops={}\n",
    "pops['kor'] = get_Hardy_Weinberg_freq_AB(df_ab, \"KORI_freq\")\n",
    "pops['api'] = get_Hardy_Weinberg_freq_AB(df_ab, \"API_freq\")\n",
    "\n",
    "list_name = 'list_API_Top50'\n",
    "genes = pd.read_csv(f\"data/{list_name}.txt\", header=None, names=['raw'])\n",
    "genes['A']=genes.raw.apply(lambda x: x[:4])\n",
    "genes['B']=genes.raw.apply(lambda x: x[4:])\n",
    "genes=genes.drop_duplicates('raw', keep='first')"
   ]
  },
  {
   "cell_type": "code",
   "execution_count": null,
   "metadata": {},
   "outputs": [],
   "source": [
    "for country, pop in pops.items():\n",
    "    matches={}\n",
    "    # coverages = {}\n",
    "    for idx, gene in genes.iterrows():\n",
    "        covered = pop.eval('(A_1==\"{A}\" or A_2==\"{A}\") and (B_1==\"{B}\" or B_2==\"{B}\")'.format(A=gene.A, B=gene.B))\n",
    "        matches[gene.raw]=covered\n",
    "#         coverages[gene.raw]=pop[covered].f.sum()\n",
    "\n",
    "    coverages=pd.DataFrame([(name, pop[covered].f.sum()) for name, covered in matches.items()],\n",
    "                           columns=['gene', 'coverage']).sort_values('coverage', ascending=False)\n",
    "\n",
    "    tot=np.repeat(False, matches[coverages.gene[0]].shape)\n",
    "    accums=[]\n",
    "    for gene in coverages.gene:\n",
    "        tot=tot|matches[gene] \n",
    "        accums.append((gene, pop[tot].f.sum()))\n",
    "    accums=pd.DataFrame(accums, columns=['gene', 'coverage_accum'])\n",
    "#     accums = accums.merge(genes[['raw','source']], how='left', left_on='gene', right_on='raw').drop('raw',axis=1)\n",
    "    \n",
    "    coverages.to_csv(f\"{list_name}.%s.coverage.csv\"%country, index=False)\n",
    "    accums.to_csv(f\"{list_name}.%s.accum.csv\"%country, index=False)"
   ]
  }
 ],
 "metadata": {
  "kernelspec": {
   "display_name": "Python 3",
   "language": "python",
   "name": "python3"
  },
  "language_info": {
   "codemirror_mode": {
    "name": "ipython",
    "version": 3
   },
   "file_extension": ".py",
   "mimetype": "text/x-python",
   "name": "python",
   "nbconvert_exporter": "python",
   "pygments_lexer": "ipython3",
   "version": "3.6.8"
  }
 },
 "nbformat": 4,
 "nbformat_minor": 2
}
